{
  "nbformat": 4,
  "nbformat_minor": 0,
  "metadata": {
    "colab": {
      "provenance": [],
      "collapsed_sections": [],
      "authorship_tag": "ABX9TyOLmpNSPyBDsILJN5wySTlM",
      "include_colab_link": true
    },
    "kernelspec": {
      "name": "python3",
      "display_name": "Python 3"
    },
    "language_info": {
      "name": "python"
    }
  },
  "cells": [
    {
      "cell_type": "markdown",
      "metadata": {
        "id": "view-in-github",
        "colab_type": "text"
      },
      "source": [
        "<a href=\"https://colab.research.google.com/github/zuzannasosnowska/Emotion-Recognition-for-Robots/blob/main/model.ipynb\" target=\"_parent\"><img src=\"https://colab.research.google.com/assets/colab-badge.svg\" alt=\"Open In Colab\"/></a>"
      ]
    },
    {
      "cell_type": "code",
      "execution_count": null,
      "metadata": {
        "colab": {
          "base_uri": "https://localhost:8080/"
        },
        "id": "pw5N4-HJiUZk",
        "outputId": "655f0fb8-812f-4886-e397-aa4d73b0aec8"
      },
      "outputs": [
        {
          "output_type": "stream",
          "name": "stdout",
          "text": [
            "done\n"
          ]
        }
      ],
      "source": [
        "from zipfile import ZipFile\n",
        "file_name = \"/content/fer300.zip\"\n",
        "\n",
        "with ZipFile(file_name,'r') as zip:\n",
        "  zip.extractall()\n",
        "  print(\"done\")"
      ]
    },
    {
      "cell_type": "code",
      "source": [
        "import numpy as np # linear algebra\n",
        "import pandas as pd # data processing, CSV file I/O (e.g. pd.read_csv)\n",
        "import os,cv2\n",
        "import numpy as np\n",
        "import matplotlib.pyplot as plt\n",
        "import matplotlib.image as mpimg\n",
        "from pylab import rcParams\n",
        "rcParams['figure.figsize'] = 20, 10\n",
        "\n",
        "from sklearn.utils import shuffle\n",
        "from sklearn.model_selection import train_test_split\n",
        "\n",
        "import keras\n",
        "from keras.utils import np_utils\n",
        "from keras.models import Sequential\n",
        "from keras.layers import Dense , Activation , Dropout ,Flatten\n",
        "from keras.layers.convolutional import Conv2D\n",
        "from keras.layers.convolutional import MaxPooling2D\n",
        "from keras.metrics import categorical_accuracy\n",
        "from keras.models import model_from_json\n",
        "from keras.callbacks import ModelCheckpoint\n",
        "from keras.optimizers import *\n",
        "from tensorflow.keras.layers import BatchNormalization\n",
        "import os\n",
        "print(os.listdir(\"/content/fer500\"))\n",
        "\n",
        "\n",
        "from keras.wrappers.scikit_learn import KerasClassifier\n",
        "from sklearn.model_selection import cross_val_score, cross_val_predict\n",
        "from sklearn.datasets import make_classification\n",
        "from keras.callbacks import EarlyStopping, ModelCheckpoint, ReduceLROnPlateau"
      ],
      "metadata": {
        "colab": {
          "base_uri": "https://localhost:8080/"
        },
        "id": "IlJGWknDitky",
        "outputId": "82119ff1-103b-49b7-c233-85f1922671f6"
      },
      "execution_count": null,
      "outputs": [
        {
          "output_type": "stream",
          "name": "stdout",
          "text": [
            "['disgust', 'happy', 'neutral', 'fear', 'sad', 'suprised', 'angry']\n"
          ]
        }
      ]
    },
    {
      "cell_type": "code",
      "source": [
        "data_path = '/content/fer500'\n",
        "data_dir_list = os.listdir(data_path)\n",
        "\n",
        "num_epoch=10\n",
        "\n",
        "img_data_list=[]\n",
        "\n",
        "\n",
        "for dataset in data_dir_list:\n",
        "    img_list=os.listdir(data_path+'/'+ dataset)\n",
        "    print ('Loaded the images of dataset-'+'{}\\n'.format(dataset))\n",
        "    for img in img_list:\n",
        "        input_img=cv2.imread(data_path + '/'+ dataset + '/'+ img )\n",
        "        \n",
        "        input_img_resize=cv2.resize(input_img,(48,48))\n",
        "        img_data_list.append(input_img_resize)\n",
        "img_data = np.array(img_data_list)\n",
        "img_data = img_data.astype('float32')\n",
        "img_data = img_data/255\n",
        "img_data.shape"
      ],
      "metadata": {
        "colab": {
          "base_uri": "https://localhost:8080/"
        },
        "id": "BrguRbNhi196",
        "outputId": "f2d6d86d-c50f-4787-f582-a07d16bc8286"
      },
      "execution_count": null,
      "outputs": [
        {
          "output_type": "stream",
          "name": "stdout",
          "text": [
            "Loaded the images of dataset-disgust\n",
            "\n",
            "Loaded the images of dataset-happy\n",
            "\n",
            "Loaded the images of dataset-neutral\n",
            "\n",
            "Loaded the images of dataset-fear\n",
            "\n",
            "Loaded the images of dataset-sad\n",
            "\n",
            "Loaded the images of dataset-suprised\n",
            "\n",
            "Loaded the images of dataset-angry\n",
            "\n"
          ]
        },
        {
          "output_type": "execute_result",
          "data": {
            "text/plain": [
              "(2100, 48, 48, 3)"
            ]
          },
          "metadata": {},
          "execution_count": 3
        }
      ]
    },
    {
      "cell_type": "code",
      "source": [
        "num_classes = 7\n",
        "\n",
        "num_of_samples = img_data.shape[0]\n",
        "labels = np.ones((num_of_samples,),dtype='int64')\n",
        "\n",
        "labels[0:299]=0 #300\n",
        "labels[300:599]=1 #300\n",
        "labels[600:899]=2 #300\n",
        "labels[900:1199]=3 #300\n",
        "labels[1200:1499]=4 #300\n",
        "labels[1500:1799]=5 #300\n",
        "labels[1800:2099]=6 #300\n",
        "\n",
        "names = ['anger','disgust','fear','happy','neutral''sadness','surprise']\n",
        "\n",
        "def getLabel(id):\n",
        "    return ['anger','neutral','disgust','fear','happy','sadness','surprise'][id]"
      ],
      "metadata": {
        "id": "Jcm8x2kNi8JE"
      },
      "execution_count": null,
      "outputs": []
    },
    {
      "cell_type": "code",
      "source": [
        "Y = np_utils.to_categorical(labels, num_classes)\n",
        "\n",
        "#Shuffle the dataset\n",
        "x,y = shuffle(img_data,Y, random_state=2)\n",
        "# Split the dataset\n",
        "X_train, X_test, y_train, y_test = train_test_split(x, y, test_size=0.2, random_state=2)\n",
        "x_test=X_test"
      ],
      "metadata": {
        "id": "NTMFWoukjsuL"
      },
      "execution_count": null,
      "outputs": []
    },
    {
      "cell_type": "code",
      "source": [
        "def create_model():\n",
        "    input_shape=(48,48,3)\n",
        "\n",
        "    model = Sequential()\n",
        "    model.add(Conv2D(6, (5, 5), input_shape=input_shape, padding='same', activation = 'relu'))\n",
        "    model.add(MaxPooling2D(pool_size=(2, 2)))\n",
        "\n",
        "    model.add(Conv2D(16, (5, 5), padding='same', activation = 'relu'))\n",
        "    model.add(Activation('relu'))\n",
        "    model.add(MaxPooling2D(pool_size=(2, 2)))\n",
        "\n",
        "    model.add(Conv2D(64, (3, 3), activation = 'relu'))\n",
        "    model.add(MaxPooling2D(pool_size=(2, 2)))\n",
        "\n",
        "    model.add(Flatten())\n",
        "    model.add(Dense(128, activation = 'relu'))\n",
        "    model.add(Dropout(0.5))\n",
        "    model.add(Dense(7, activation = 'softmax'))\n",
        "\n",
        "    model.compile(loss='categorical_crossentropy', metrics=['accuracy'],optimizer='Adam')\n",
        "    \n",
        "    return model"
      ],
      "metadata": {
        "id": "HmRo6LYxjvc4"
      },
      "execution_count": null,
      "outputs": []
    },
    {
      "cell_type": "code",
      "source": [
        "model_custom = create_model()\n",
        "model_custom.summary()"
      ],
      "metadata": {
        "colab": {
          "base_uri": "https://localhost:8080/"
        },
        "id": "IJIHMNCmjyaI",
        "outputId": "1ade5227-dd0d-4552-b696-5279b44736ad"
      },
      "execution_count": null,
      "outputs": [
        {
          "output_type": "stream",
          "name": "stdout",
          "text": [
            "Model: \"sequential\"\n",
            "_________________________________________________________________\n",
            " Layer (type)                Output Shape              Param #   \n",
            "=================================================================\n",
            " conv2d (Conv2D)             (None, 48, 48, 6)         456       \n",
            "                                                                 \n",
            " max_pooling2d (MaxPooling2D  (None, 24, 24, 6)        0         \n",
            " )                                                               \n",
            "                                                                 \n",
            " conv2d_1 (Conv2D)           (None, 24, 24, 16)        2416      \n",
            "                                                                 \n",
            " activation (Activation)     (None, 24, 24, 16)        0         \n",
            "                                                                 \n",
            " max_pooling2d_1 (MaxPooling  (None, 12, 12, 16)       0         \n",
            " 2D)                                                             \n",
            "                                                                 \n",
            " conv2d_2 (Conv2D)           (None, 10, 10, 64)        9280      \n",
            "                                                                 \n",
            " max_pooling2d_2 (MaxPooling  (None, 5, 5, 64)         0         \n",
            " 2D)                                                             \n",
            "                                                                 \n",
            " flatten (Flatten)           (None, 1600)              0         \n",
            "                                                                 \n",
            " dense (Dense)               (None, 128)               204928    \n",
            "                                                                 \n",
            " dropout (Dropout)           (None, 128)               0         \n",
            "                                                                 \n",
            " dense_1 (Dense)             (None, 7)                 903       \n",
            "                                                                 \n",
            "=================================================================\n",
            "Total params: 217,983\n",
            "Trainable params: 217,983\n",
            "Non-trainable params: 0\n",
            "_________________________________________________________________\n"
          ]
        }
      ]
    },
    {
      "cell_type": "code",
      "source": [
        "from sklearn.model_selection import KFold\n",
        "kf = KFold(n_splits=5, shuffle=False)\n",
        "\n",
        "from keras.preprocessing.image import ImageDataGenerator\n",
        "\n",
        "aug = ImageDataGenerator(\n",
        "    rotation_range=5, width_shift_range=0.05,\n",
        "    height_shift_range=0.05, shear_range=0.2, \n",
        "    zoom_range=0.05,horizontal_flip=True, \n",
        "    fill_mode=\"nearest\")"
      ],
      "metadata": {
        "id": "uvIPt6Hbj1OJ"
      },
      "execution_count": null,
      "outputs": []
    },
    {
      "cell_type": "code",
      "source": [
        "BS = 8\n",
        "EPOCHS = 150\n",
        "\n",
        "result = []\n",
        "scores_loss = []\n",
        "scores_acc = []\n",
        "k_no = 0\n",
        "for train_index, test_index in kf.split(x):\n",
        "    X_Train_ = x[train_index]\n",
        "    Y_Train = y[train_index]\n",
        "    X_Test_ = x[test_index]\n",
        "    Y_Test = y[test_index]\n",
        "\n",
        "    file_path = \"/kaggle/working/weights_best_\"+str(k_no)+\".hdf5\"\n",
        "    checkpoint = ModelCheckpoint(file_path, monitor='loss', verbose=0, save_best_only=True, mode='min')\n",
        "    early = EarlyStopping(monitor=\"loss\", mode=\"min\", patience=8)\n",
        "\n",
        "    callbacks_list = [checkpoint, early]\n",
        "\n",
        "    model = create_model()\n",
        "    hist = model.fit(aug.flow(X_Train_, Y_Train), epochs=EPOCHS,validation_data=(X_Test_, Y_Test), callbacks=callbacks_list, verbose=0)\n",
        "    # model.fit(X_Train, Y_Train, batch_size=batch_size, epochs=epochs, validation_data=(X_Test, Y_Test), verbose=1)\n",
        "    model.load_weights(file_path)\n",
        "    result.append(model.predict(X_Test_))\n",
        "    score = model.evaluate(X_Test_,Y_Test, verbose=0)\n",
        "    scores_loss.append(score[0])\n",
        "    scores_acc.append(score[1])\n",
        "    k_no+=1"
      ],
      "metadata": {
        "id": "Ydh0UjvTj39A"
      },
      "execution_count": null,
      "outputs": []
    },
    {
      "cell_type": "code",
      "source": [
        "print(scores_acc,scores_loss)"
      ],
      "metadata": {
        "colab": {
          "base_uri": "https://localhost:8080/"
        },
        "id": "HU6ebu0MyEaO",
        "outputId": "f5e84554-279e-4c62-a8db-34ee96497656"
      },
      "execution_count": null,
      "outputs": [
        {
          "output_type": "stream",
          "name": "stdout",
          "text": [
            "[0.4452380836009979, 0.43809524178504944, 0.3642857074737549, 0.4452380836009979, 0.42619046568870544] [2.5434622764587402, 2.315274715423584, 2.504852533340454, 2.1572179794311523, 1.979701280593872]\n"
          ]
        }
      ]
    },
    {
      "cell_type": "code",
      "source": [
        "value_min = min(scores_loss)\n",
        "value_index = scores_loss.index(value_min)\n",
        "print(value_index)"
      ],
      "metadata": {
        "colab": {
          "base_uri": "https://localhost:8080/"
        },
        "id": "kZfY39GJyJ3e",
        "outputId": "b08ca3d5-d944-4757-cd3f-99af0af5a21a"
      },
      "execution_count": null,
      "outputs": [
        {
          "output_type": "stream",
          "name": "stdout",
          "text": [
            "4\n"
          ]
        }
      ]
    },
    {
      "cell_type": "code",
      "source": [
        "model.load_weights(\"/kaggle/working/weights_best_\"+str(value_index)+\".hdf5\")\n",
        "best_model = model"
      ],
      "metadata": {
        "id": "3KJakMeUyMej"
      },
      "execution_count": null,
      "outputs": []
    },
    {
      "cell_type": "code",
      "source": [
        "score = best_model.evaluate(X_test, y_test, verbose=0)\n",
        "print('Test Loss:', score[0])\n",
        "print('Test accuracy:', score[1])\n",
        "\n",
        "test_image = X_test[0:1]\n",
        "print (test_image.shape)\n",
        "\n",
        "\n",
        "predict_x=best_model.predict(X_test) \n",
        "classes_x=np.argmax(predict_x,axis=1)\n",
        "print(predict_x)\n",
        "print(classes_x)\n",
        "print(y_test[0:1])\n",
        "\n",
        "#predict\n",
        "y_pred = best_model.predict(X_test)"
      ],
      "metadata": {
        "colab": {
          "base_uri": "https://localhost:8080/"
        },
        "id": "aB9l73IkyOkx",
        "outputId": "2111b746-4885-4095-8a93-9fe48ff02336"
      },
      "execution_count": null,
      "outputs": [
        {
          "output_type": "stream",
          "name": "stdout",
          "text": [
            "Test Loss: 0.6653426289558411\n",
            "Test accuracy: 0.7857142686843872\n",
            "(1, 48, 48, 3)\n",
            "[[2.2355191e-05 6.1688002e-04 2.8037513e-04 ... 3.8542778e-03\n",
            "  9.2773145e-01 3.7134641e-03]\n",
            " [1.1201313e-04 2.6693037e-02 1.5631182e-02 ... 9.2108566e-01\n",
            "  1.1612452e-03 2.9677637e-03]\n",
            " [2.7353793e-02 7.5703859e-03 9.1442126e-01 ... 1.3347815e-02\n",
            "  1.2943469e-04 3.3528332e-02]\n",
            " ...\n",
            " [5.5685747e-01 8.0522662e-03 2.5118470e-01 ... 1.1197763e-01\n",
            "  6.2540596e-05 2.5987655e-02]\n",
            " [1.0570612e-04 2.0693389e-01 7.3506758e-02 ... 9.5185428e-04\n",
            "  1.0060430e-01 4.3528248e-03]\n",
            " [5.9397985e-07 1.5136003e-04 2.0619866e-03 ... 1.1030179e-03\n",
            "  3.9282353e-03 3.6805647e-03]]\n",
            "[5 4 2 1 1 0 3 4 0 0 2 6 5 4 3 4 4 6 0 2 6 4 4 4 0 3 2 1 0 1 3 6 2 0 6 2 0\n",
            " 3 5 2 4 1 2 3 4 1 3 1 5 1 0 2 3 1 0 3 2 4 2 2 0 2 0 1 2 2 0 2 1 3 4 2 1 0\n",
            " 2 0 2 1 1 0 6 5 0 6 2 2 4 2 5 5 6 2 1 0 5 6 6 6 2 5 2 4 0 0 3 2 2 4 3 2 3\n",
            " 3 1 2 4 2 4 4 2 4 0 1 6 6 0 3 1 2 1 2 6 1 5 6 6 1 0 3 5 2 6 5 6 1 2 1 4 5\n",
            " 1 1 5 4 5 3 0 1 3 6 1 2 5 6 5 4 6 5 4 1 4 3 1 0 5 2 4 1 4 4 1 5 4 2 1 1 4\n",
            " 4 6 4 1 0 6 5 3 2 6 5 3 2 2 4 0 0 2 5 5 5 1 1 0 4 2 6 0 4 3 2 5 0 5 5 1 1\n",
            " 0 0 3 2 3 4 4 4 2 4 6 1 3 3 3 5 5 2 2 0 4 5 6 0 2 3 3 3 5 5 1 2 1 2 4 1 4\n",
            " 3 1 5 1 0 6 1 6 1 1 5 2 0 2 2 0 2 4 6 2 2 1 3 3 4 1 4 4 2 4 6 2 4 2 0 4 6\n",
            " 1 4 6 3 1 4 4 1 2 4 1 5 0 0 1 6 6 1 6 2 6 0 1 6 0 4 5 1 6 6 1 6 3 1 2 4 4\n",
            " 5 4 0 3 3 4 2 1 0 0 6 4 4 1 2 2 4 6 4 0 4 2 6 1 4 3 0 1 0 5 4 0 4 4 0 3 1\n",
            " 3 0 1 3 0 0 6 3 2 6 1 1 5 4 6 0 0 2 1 1 3 5 2 0 3 4 3 6 4 3 2 3 5 5 4 1 2\n",
            " 3 0 6 6 2 0 0 5 0 2 0 3 3]\n",
            "[[0. 0. 0. 0. 0. 1. 0.]]\n"
          ]
        }
      ]
    },
    {
      "cell_type": "code",
      "source": [
        "%matplotlib inline\n",
        "\n",
        "train_loss=hist.history['loss']\n",
        "val_loss=hist.history['val_loss']\n",
        "train_acc=hist.history['accuracy']\n",
        "val_acc=hist.history['val_accuracy']\n",
        "\n",
        "epochs = range(len(train_acc))\n",
        "\n",
        "plt.plot(epochs,train_loss,'r', label='train_loss')\n",
        "plt.plot(epochs,val_loss,'b', label='val_loss')\n",
        "plt.title('train_loss vs val_loss')\n",
        "plt.legend()\n",
        "plt.figure()\n",
        "\n",
        "plt.plot(epochs,train_acc,'r', label='train_acc')\n",
        "plt.plot(epochs,val_acc,'b', label='val_acc')\n",
        "plt.title('train_acc vs val_acc')\n",
        "plt.legend()\n",
        "plt.figure()"
      ],
      "metadata": {
        "colab": {
          "base_uri": "https://localhost:8080/",
          "height": 580
        },
        "id": "psn4MMsHySFg",
        "outputId": "b8a0c055-a10b-49d0-aa36-468bec95b535"
      },
      "execution_count": null,
      "outputs": [
        {
          "output_type": "execute_result",
          "data": {
            "text/plain": [
              "<Figure size 432x288 with 0 Axes>"
            ]
          },
          "metadata": {},
          "execution_count": 14
        },
        {
          "output_type": "display_data",
          "data": {
            "text/plain": [
              "<Figure size 432x288 with 1 Axes>"
            ],
            "image/png": "[encoded data removed]"
          },
          "metadata": {
            "needs_background": "light"
          }
        },
        {
          "output_type": "display_data",
          "data": {
            "text/plain": [
              "<Figure size 432x288 with 1 Axes>"
            ],
            "image/png": "[encoded data removed]"
          },
          "metadata": {
            "needs_background": "light"
          }
        },
        {
          "output_type": "display_data",
          "data": {
            "text/plain": [
              "<Figure size 432x288 with 0 Axes>"
            ]
          },
          "metadata": {}
        }
      ]
    },
    {
      "cell_type": "code",
      "source": [
        "from sklearn.metrics import confusion_matrix\n",
        "results = classes_x\n",
        "cm = confusion_matrix(np.where(y_test == 1)[1], results)"
      ],
      "metadata": {
        "id": "jSJDBz5VyVNx"
      },
      "execution_count": null,
      "outputs": []
    },
    {
      "cell_type": "code",
      "source": [
        "import seaborn as sns\n",
        "import pandas as pd\n",
        "\n",
        "label_mapdisgust = ['anger','neutral','disgust','fear','happy','sadness','surprise']\n",
        "\n",
        "#Transform to df for easier plotting\n",
        "cm_df = pd.DataFrame(cm, index = label_mapdisgust,\n",
        "                     columns = label_mapdisgust\n",
        "                    )\n",
        "\n",
        "final_cm = cm_df\n",
        "final_cm"
      ],
      "metadata": {
        "colab": {
          "base_uri": "https://localhost:8080/",
          "height": 269
        },
        "id": "evSdMQTJyXpv",
        "outputId": "efa0608b-fb40-49a6-fa4d-f016fce68caa"
      },
      "execution_count": null,
      "outputs": [
        {
          "output_type": "execute_result",
          "data": {
            "text/plain": [
              "          anger  neutral  disgust  fear  happy  sadness  surprise\n",
              "anger        54        3        3     0      3        0         1\n",
              "neutral       0       51        3     2      1        2         1\n",
              "disgust       1        6       56     1      2        1         0\n",
              "fear          2        4        3    40     10        1         4\n",
              "happy         0        4        4     2     49        1         2\n",
              "sadness       0        1        2     3      2       39         1\n",
              "surprise      5        1        3     2      3        0        41"
            ],
            "text/html": [
              "\n",
              "  <div id=\"df-305682ec-d79d-4ab7-b8f3-d9b25e58afaf\">\n",
              "    <div class=\"colab-df-container\">\n",
              "      <div>\n",
              "<style scoped>\n",
              "    .dataframe tbody tr th:only-of-type {\n",
              "        vertical-align: middle;\n",
              "    }\n",
              "\n",
              "    .dataframe tbody tr th {\n",
              "        vertical-align: top;\n",
              "    }\n",
              "\n",
              "    .dataframe thead th {\n",
              "        text-align: right;\n",
              "    }\n",
              "</style>\n",
              "<table border=\"1\" class=\"dataframe\">\n",
              "  <thead>\n",
              "    <tr style=\"text-align: right;\">\n",
              "      <th></th>\n",
              "      <th>anger</th>\n",
              "      <th>neutral</th>\n",
              "      <th>disgust</th>\n",
              "      <th>fear</th>\n",
              "      <th>happy</th>\n",
              "      <th>sadness</th>\n",
              "      <th>surprise</th>\n",
              "    </tr>\n",
              "  </thead>\n",
              "  <tbody>\n",
              "    <tr>\n",
              "      <th>anger</th>\n",
              "      <td>54</td>\n",
              "      <td>3</td>\n",
              "      <td>3</td>\n",
              "      <td>0</td>\n",
              "      <td>3</td>\n",
              "      <td>0</td>\n",
              "      <td>1</td>\n",
              "    </tr>\n",
              "    <tr>\n",
              "      <th>neutral</th>\n",
              "      <td>0</td>\n",
              "      <td>51</td>\n",
              "      <td>3</td>\n",
              "      <td>2</td>\n",
              "      <td>1</td>\n",
              "      <td>2</td>\n",
              "      <td>1</td>\n",
              "    </tr>\n",
              "    <tr>\n",
              "      <th>disgust</th>\n",
              "      <td>1</td>\n",
              "      <td>6</td>\n",
              "      <td>56</td>\n",
              "      <td>1</td>\n",
              "      <td>2</td>\n",
              "      <td>1</td>\n",
              "      <td>0</td>\n",
              "    </tr>\n",
              "    <tr>\n",
              "      <th>fear</th>\n",
              "      <td>2</td>\n",
              "      <td>4</td>\n",
              "      <td>3</td>\n",
              "      <td>40</td>\n",
              "      <td>10</td>\n",
              "      <td>1</td>\n",
              "      <td>4</td>\n",
              "    </tr>\n",
              "    <tr>\n",
              "      <th>happy</th>\n",
              "      <td>0</td>\n",
              "      <td>4</td>\n",
              "      <td>4</td>\n",
              "      <td>2</td>\n",
              "      <td>49</td>\n",
              "      <td>1</td>\n",
              "      <td>2</td>\n",
              "    </tr>\n",
              "    <tr>\n",
              "      <th>sadness</th>\n",
              "      <td>0</td>\n",
              "      <td>1</td>\n",
              "      <td>2</td>\n",
              "      <td>3</td>\n",
              "      <td>2</td>\n",
              "      <td>39</td>\n",
              "      <td>1</td>\n",
              "    </tr>\n",
              "    <tr>\n",
              "      <th>surprise</th>\n",
              "      <td>5</td>\n",
              "      <td>1</td>\n",
              "      <td>3</td>\n",
              "      <td>2</td>\n",
              "      <td>3</td>\n",
              "      <td>0</td>\n",
              "      <td>41</td>\n",
              "    </tr>\n",
              "  </tbody>\n",
              "</table>\n",
              "</div>\n",
              "      <button class=\"colab-df-convert\" onclick=\"convertToInteractive('df-305682ec-d79d-4ab7-b8f3-d9b25e58afaf')\"\n",
              "              title=\"Convert this dataframe to an interactive table.\"\n",
              "              style=\"display:none;\">\n",
              "        \n",
              "  <svg xmlns=\"http://www.w3.org/2000/svg\" height=\"24px\"viewBox=\"0 0 24 24\"\n",
              "       width=\"24px\">\n",
              "    <path d=\"M0 0h24v24H0V0z\" fill=\"none\"/>\n",
              "    <path d=\"M18.56 5.44l.94 2.06.94-2.06 2.06-.94-2.06-.94-.94-2.06-.94 2.06-2.06.94zm-11 1L8.5 8.5l.94-2.06 2.06-.94-2.06-.94L8.5 2.5l-.94 2.06-2.06.94zm10 10l.94 2.06.94-2.06 2.06-.94-2.06-.94-.94-2.06-.94 2.06-2.06.94z\"/><path d=\"M17.41 7.96l-1.37-1.37c-.4-.4-.92-.59-1.43-.59-.52 0-1.04.2-1.43.59L10.3 9.45l-7.72 7.72c-.78.78-.78 2.05 0 2.83L4 21.41c.39.39.9.59 1.41.59.51 0 1.02-.2 1.41-.59l7.78-7.78 2.81-2.81c.8-.78.8-2.07 0-2.86zM5.41 20L4 18.59l7.72-7.72 1.47 1.35L5.41 20z\"/>\n",
              "  </svg>\n",
              "      </button>\n",
              "      \n",
              "  <style>\n",
              "    .colab-df-container {\n",
              "      display:flex;\n",
              "      flex-wrap:wrap;\n",
              "      gap: 12px;\n",
              "    }\n",
              "\n",
              "    .colab-df-convert {\n",
              "      background-color: #E8F0FE;\n",
              "      border: none;\n",
              "      border-radius: 50%;\n",
              "      cursor: pointer;\n",
              "      display: none;\n",
              "      fill: #1967D2;\n",
              "      height: 32px;\n",
              "      padding: 0 0 0 0;\n",
              "      width: 32px;\n",
              "    }\n",
              "\n",
              "    .colab-df-convert:hover {\n",
              "      background-color: #E2EBFA;\n",
              "      box-shadow: 0px 1px 2px rgba(60, 64, 67, 0.3), 0px 1px 3px 1px rgba(60, 64, 67, 0.15);\n",
              "      fill: #174EA6;\n",
              "    }\n",
              "\n",
              "    [theme=dark] .colab-df-convert {\n",
              "      background-color: #3B4455;\n",
              "      fill: #D2E3FC;\n",
              "    }\n",
              "\n",
              "    [theme=dark] .colab-df-convert:hover {\n",
              "      background-color: #434B5C;\n",
              "      box-shadow: 0px 1px 3px 1px rgba(0, 0, 0, 0.15);\n",
              "      filter: drop-shadow(0px 1px 2px rgba(0, 0, 0, 0.3));\n",
              "      fill: #FFFFFF;\n",
              "    }\n",
              "  </style>\n",
              "\n",
              "      <script>\n",
              "        const buttonEl =\n",
              "          document.querySelector('#df-305682ec-d79d-4ab7-b8f3-d9b25e58afaf button.colab-df-convert');\n",
              "        buttonEl.style.display =\n",
              "          google.colab.kernel.accessAllowed ? 'block' : 'none';\n",
              "\n",
              "        async function convertToInteractive(key) {\n",
              "          const element = document.querySelector('#df-305682ec-d79d-4ab7-b8f3-d9b25e58afaf');\n",
              "          const dataTable =\n",
              "            await google.colab.kernel.invokeFunction('convertToInteractive',\n",
              "                                                     [key], {});\n",
              "          if (!dataTable) return;\n",
              "\n",
              "          const docLinkHtml = 'Like what you see? Visit the ' +\n",
              "            '<a target=\"_blank\" href=https://colab.research.google.com/notebooks/data_table.ipynb>data table notebook</a>'\n",
              "            + ' to learn more about interactive tables.';\n",
              "          element.innerHTML = '';\n",
              "          dataTable['output_type'] = 'display_data';\n",
              "          await google.colab.output.renderOutput(dataTable, element);\n",
              "          const docLink = document.createElement('div');\n",
              "          docLink.innerHTML = docLinkHtml;\n",
              "          element.appendChild(docLink);\n",
              "        }\n",
              "      </script>\n",
              "    </div>\n",
              "  </div>\n",
              "  "
            ]
          },
          "metadata": {},
          "execution_count": 16
        }
      ]
    },
    {
      "cell_type": "code",
      "source": [
        "plt.figure(figsize = (5,5))\n",
        "sns.heatmap(final_cm, annot = True,cmap='Greys',cbar=False,linewidth=2,fmt='d')\n",
        "plt.title('CNN Emotion Classify')\n",
        "plt.ylabel('True class')\n",
        "plt.xlabel('Prediction class')\n",
        "plt.show()"
      ],
      "metadata": {
        "colab": {
          "base_uri": "https://localhost:8080/",
          "height": 380
        },
        "id": "EluF4O_LycWc",
        "outputId": "2293eda6-cc62-4dc8-e8b6-026f3c687da8"
      },
      "execution_count": null,
      "outputs": [
        {
          "output_type": "display_data",
          "data": {
            "text/plain": [
              "<Figure size 360x360 with 1 Axes>"
            ],
            "image/png": "[encoded data removed]"
          },
          "metadata": {
            "needs_background": "light"
          }
        }
      ]
    }
  ]
}